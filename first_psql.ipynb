{
 "cells": [
  {
   "cell_type": "code",
   "execution_count": 1,
   "metadata": {},
   "outputs": [],
   "source": [
    "import psycopg2\n",
    "import pandas as pd"
   ]
  },
  {
   "cell_type": "code",
   "execution_count": 6,
   "metadata": {},
   "outputs": [],
   "source": [
    "try: \n",
    "    conn = psycopg2.connect(\"host = 127.0.0.1 dbname = myfirstdb user=postgres password = root\") \n",
    "except psycopg2.Error as e:\n",
    "    print(e)\n",
    "try:\n",
    "    cur = conn.cursor()\n",
    "except psycopg2.Error as e:\n",
    "    print(e)\n",
    "\n",
    "\n",
    "conn.set_session(autocommit = True)\n"
   ]
  },
  {
   "cell_type": "markdown",
   "metadata": {},
   "source": [
    "##### Creating a table in myfirstdb"
   ]
  },
  {
   "cell_type": "code",
   "execution_count": 7,
   "metadata": {},
   "outputs": [],
   "source": [
    "try:\n",
    "    cur.execute(\"CREATE TABLE IF NOT EXISTS students ( student_id int, name varchar,\\\n",
    "        age int, gender varchar, subject varchar, marks int )\"\n",
    ")\n",
    "except psycopg2.Error as e:\n",
    "    print(e)\n",
    "    "
   ]
  },
  {
   "cell_type": "markdown",
   "metadata": {},
   "source": [
    "####  insert data into students table "
   ]
  },
  {
   "cell_type": "code",
   "execution_count": 8,
   "metadata": {},
   "outputs": [],
   "source": [
    "try:\n",
    "    cur.execute(\" INSERT INTO students (student_id, name, age, gender, subject, marks)\\\n",
    "        VALUES (%s, %s, %s, %s, %s, %s)\",\\\n",
    "            (1,\"RAj\", 23,  \"MALE\", \"Python\", 90))\n",
    "except psycopg2.Error as e:\n",
    "    print(e)\n",
    "\n",
    "\n",
    "try:\n",
    "    cur.execute(\" INSERT INTO students (student_id, name, age, gender, subject, marks)\\\n",
    "        VALUES (%s, %s, %s, %s, %s, %s)\",\\\n",
    "            (2,\"TAK\", 25,  \"MALE\", \"C\", 86))\n",
    "except psycopg2.Error as e:\n",
    "    print(e)\n"
   ]
  },
  {
   "cell_type": "markdown",
   "metadata": {},
   "source": [
    "#### VALIDATE the data "
   ]
  },
  {
   "cell_type": "code",
   "execution_count": 7,
   "metadata": {},
   "outputs": [
    {
     "name": "stdout",
     "output_type": "stream",
     "text": [
      "(1, 'RAj', 23, 'MALE', 'Python', 90)\n",
      "(2, 'TAK', 25, 'MALE', 'C', 86)\n"
     ]
    }
   ],
   "source": [
    "try:\n",
    "    cur.execute(\"SELECT * FROM students; \")\n",
    "except psycopg2.Error as e:\n",
    "    print(e)\n",
    "\n",
    "row = cur.fetchone()\n",
    "while row:\n",
    "    print(row)\n",
    "    row = cur.fetchone()"
   ]
  },
  {
   "cell_type": "markdown",
   "metadata": {},
   "source": [
    "### Closing the connection "
   ]
  },
  {
   "cell_type": "code",
   "execution_count": 8,
   "metadata": {},
   "outputs": [],
   "source": [
    "cur.close()\n",
    "conn.close()"
   ]
  },
  {
   "cell_type": "code",
   "execution_count": null,
   "metadata": {},
   "outputs": [],
   "source": [
    "def create_db():\n",
    "    #connect default DB\n",
    "    conn = psycopg2.connect(\"host = 127.0.0.1 dbname = postgres user=postgres password = root\") \n",
    "    cur = conn.cursor()\n",
    "    conn.set_session(autocommit = True)\n",
    "    \n",
    "    #Create db\n",
    "    cur.execute(\"DROP DATABASE accounts\")\n",
    "    cur.execute(\"CREATE DATABASE accounts\")\n",
    "\n",
    "    #close connection to default db\n",
    "    conn.close()\n",
    "\n",
    "#connect to accounts db\n",
    "    conn = psycopg2.connect(\"host = 127.0.0.1 dbname = accounts user=postgres password = root\") \n",
    "    cur = conn.cursor()\n",
    "\n",
    "    return conn, cur"
   ]
  },
  {
   "cell_type": "code",
   "execution_count": 12,
   "metadata": {},
   "outputs": [],
   "source": [
    "AccountsData = pd.read_csv(\"AccountsData.csv\")\n",
    "AccountsSeries = pd.read_csv(\"AccountSeries.csv\")\n",
    "AccountsCountry = pd.read_csv(\"AccountsCountry.csv\")\n"
   ]
  },
  {
   "cell_type": "code",
   "execution_count": 15,
   "metadata": {},
   "outputs": [
    {
     "data": {
      "text/plain": [
       "Index(['Country Code', ' Short Name', ' Table Name', ' Long Name',\n",
       "       ' Currency Unit'],\n",
       "      dtype='object')"
      ]
     },
     "execution_count": 15,
     "metadata": {},
     "output_type": "execute_result"
    }
   ],
   "source": [
    "AccountsCountry.columns"
   ]
  },
  {
   "cell_type": "code",
   "execution_count": null,
   "metadata": {},
   "outputs": [],
   "source": [
    "cur,conn = create_db()"
   ]
  },
  {
   "cell_type": "code",
   "execution_count": null,
   "metadata": {},
   "outputs": [],
   "source": [
    "accounts_country_table =('''CREATE TABLE IF NOT EXISTS accountscountry (\n",
    "    country_code VARCHAR PRIMARY KEY,\n",
    "    short_name VARCHAR,\n",
    "    table_name VARCHAR,\n",
    "    long_name VARCHAR,\n",
    "    currency VARCHAR\n",
    "    )''')"
   ]
  },
  {
   "cell_type": "code",
   "execution_count": null,
   "metadata": {},
   "outputs": [],
   "source": [
    "cur.execute(accounts_country_table)\n",
    "conn.commit()"
   ]
  },
  {
   "cell_type": "code",
   "execution_count": 16,
   "metadata": {},
   "outputs": [
    {
     "data": {
      "text/plain": [
       "Index(['Country Name', 'Country Code', 'Indicator Name', 'Indicator Code',\n",
       "       '1995', '2000', '2005', '2010', '2014'],\n",
       "      dtype='object')"
      ]
     },
     "execution_count": 16,
     "metadata": {},
     "output_type": "execute_result"
    }
   ],
   "source": [
    "AccountsData.columns"
   ]
  },
  {
   "cell_type": "code",
   "execution_count": null,
   "metadata": {},
   "outputs": [],
   "source": [
    "accounts_data_table_create =('''CREATE TABLE IF NOT EXISTS accountsdata (\n",
    "    country_name VARCHAR,\n",
    "    scountry_code VARCHAR,\n",
    "    indicator_name VARCHAR,\n",
    "    indicator_code VARCHAR,\n",
    "    year_1995 NUMERIC,\n",
    "    year_2000 NUMERIC,\n",
    "    year_2005 NUMERIC,\n",
    "    year_2010 NUMERIC,\n",
    "    year_2014 NUMERIC\n",
    "    )''')\n",
    "\n",
    "cur.execute(accounts_data_table_create )\n",
    "conn.commit()"
   ]
  },
  {
   "cell_type": "code",
   "execution_count": 17,
   "metadata": {},
   "outputs": [
    {
     "data": {
      "text/plain": [
       "Index(['Series Code', ' Topic', ' Indicator Name', ' Short Defination'], dtype='object')"
      ]
     },
     "execution_count": 17,
     "metadata": {},
     "output_type": "execute_result"
    }
   ],
   "source": [
    "AccountsSeries.columns"
   ]
  },
  {
   "cell_type": "code",
   "execution_count": null,
   "metadata": {},
   "outputs": [],
   "source": [
    "create_accounts_series_table =('''CREATE TABLE IF NOT EXISTS accountsseries (\n",
    "    series_code VARCHAR,\n",
    "    topic VARCHAR,\n",
    "    indicator_name VARCHAR,\n",
    "    short_defination VARCHAR\n",
    "    )''')\n",
    "\n",
    "cur.execute(create_accounts_series_table)\n",
    "conn.commit()"
   ]
  }
 ],
 "metadata": {
  "kernelspec": {
   "display_name": "Python 3.10.6 64-bit",
   "language": "python",
   "name": "python3"
  },
  "language_info": {
   "codemirror_mode": {
    "name": "ipython",
    "version": 3
   },
   "file_extension": ".py",
   "mimetype": "text/x-python",
   "name": "python",
   "nbconvert_exporter": "python",
   "pygments_lexer": "ipython3",
   "version": "3.10.6"
  },
  "orig_nbformat": 4,
  "vscode": {
   "interpreter": {
    "hash": "916dbcbb3f70747c44a77c7bcd40155683ae19c65e1c03b4aa3499c5328201f1"
   }
  }
 },
 "nbformat": 4,
 "nbformat_minor": 2
}
